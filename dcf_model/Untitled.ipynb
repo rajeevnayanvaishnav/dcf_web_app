{
 "cells": [
  {
   "cell_type": "code",
   "execution_count": 3,
   "id": "c4f7c74e-2b68-482c-b1ed-85de5f787e1e",
   "metadata": {},
   "outputs": [
    {
     "ename": "ModuleNotFoundError",
     "evalue": "No module named 'yfinance'",
     "output_type": "error",
     "traceback": [
      "\u001b[1;31m---------------------------------------------------------------------------\u001b[0m",
      "\u001b[1;31mModuleNotFoundError\u001b[0m                       Traceback (most recent call last)",
      "Cell \u001b[1;32mIn[3], line 6\u001b[0m\n\u001b[0;32m      3\u001b[0m sys\u001b[38;5;241m.\u001b[39mpath\u001b[38;5;241m.\u001b[39mappend(\u001b[38;5;124mr\u001b[39m\u001b[38;5;124m'\u001b[39m\u001b[38;5;124mC:\u001b[39m\u001b[38;5;124m\\\u001b[39m\u001b[38;5;124mUsers\u001b[39m\u001b[38;5;124m\\\u001b[39m\u001b[38;5;124mvaish\u001b[39m\u001b[38;5;124m\\\u001b[39m\u001b[38;5;124mCascadeProjects\u001b[39m\u001b[38;5;124m\\\u001b[39m\u001b[38;5;124mpython-dcf-model\u001b[39m\u001b[38;5;124m'\u001b[39m)\n\u001b[0;32m      5\u001b[0m \u001b[38;5;66;03m# Import the DCFModel class directly\u001b[39;00m\n\u001b[1;32m----> 6\u001b[0m \u001b[38;5;28;01mfrom\u001b[39;00m \u001b[38;5;21;01mdcf_model\u001b[39;00m\u001b[38;5;21;01m.\u001b[39;00m\u001b[38;5;21;01mdcf\u001b[39;00m \u001b[38;5;28;01mimport\u001b[39;00m DCFModel\n\u001b[0;32m      8\u001b[0m \u001b[38;5;66;03m# Initialize DCF model with Apple Inc. (AAPL)\u001b[39;00m\n\u001b[0;32m      9\u001b[0m dcf \u001b[38;5;241m=\u001b[39m DCFModel(\u001b[38;5;124m'\u001b[39m\u001b[38;5;124mAAPL\u001b[39m\u001b[38;5;124m'\u001b[39m)\n",
      "File \u001b[1;32m~\\CascadeProjects\\python-dcf-model\\dcf_model\\dcf.py:10\u001b[0m\n\u001b[0;32m      8\u001b[0m \u001b[38;5;28;01mimport\u001b[39;00m \u001b[38;5;21;01mpandas\u001b[39;00m \u001b[38;5;28;01mas\u001b[39;00m \u001b[38;5;21;01mpd\u001b[39;00m\n\u001b[0;32m      9\u001b[0m \u001b[38;5;28;01mimport\u001b[39;00m \u001b[38;5;21;01mnumpy\u001b[39;00m \u001b[38;5;28;01mas\u001b[39;00m \u001b[38;5;21;01mnp\u001b[39;00m\n\u001b[1;32m---> 10\u001b[0m \u001b[38;5;28;01mimport\u001b[39;00m \u001b[38;5;21;01myfinance\u001b[39;00m \u001b[38;5;28;01mas\u001b[39;00m \u001b[38;5;21;01myf\u001b[39;00m\n\u001b[0;32m     11\u001b[0m \u001b[38;5;28;01mfrom\u001b[39;00m \u001b[38;5;21;01mtyping\u001b[39;00m \u001b[38;5;28;01mimport\u001b[39;00m Dict, Optional, Tuple\n\u001b[0;32m     12\u001b[0m \u001b[38;5;28;01mimport\u001b[39;00m \u001b[38;5;21;01mlogging\u001b[39;00m\n",
      "\u001b[1;31mModuleNotFoundError\u001b[0m: No module named 'yfinance'"
     ]
    }
   ],
   "source": [
    "import os\n",
    "import sys\n",
    "sys.path.append(r'C:\\Users\\vaish\\CascadeProjects\\python-dcf-model')\n",
    "\n",
    "# Import the DCFModel class directly\n",
    "from dcf_model.dcf import DCFModel\n",
    "\n",
    "# Initialize DCF model with Apple Inc. (AAPL)\n",
    "dcf = DCFModel('AAPL')\n",
    "\n",
    "# Get financial data\n",
    "financial_data = dcf.get_financials()\n",
    "\n",
    "# Display balance sheet\n",
    "display(financial_data.balance_sheet)\n",
    "\n",
    "# Display income statement\n",
    "display(financial_data.income_statement)\n",
    "\n",
    "# Display cash flow statement\n",
    "display(financial_data.cash_flow)"
   ]
  },
  {
   "cell_type": "code",
   "execution_count": null,
   "id": "d7b7caa1-d554-4bd2-b103-7535a5822292",
   "metadata": {},
   "outputs": [],
   "source": []
  }
 ],
 "metadata": {
  "kernelspec": {
   "display_name": "Python 3 (ipykernel)",
   "language": "python",
   "name": "python3"
  },
  "language_info": {
   "codemirror_mode": {
    "name": "ipython",
    "version": 3
   },
   "file_extension": ".py",
   "mimetype": "text/x-python",
   "name": "python",
   "nbconvert_exporter": "python",
   "pygments_lexer": "ipython3",
   "version": "3.11.7"
  }
 },
 "nbformat": 4,
 "nbformat_minor": 5
}
